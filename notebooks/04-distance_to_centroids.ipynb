version https://git-lfs.github.com/spec/v1
oid sha256:3f5b62ca1ef0f18f58b33e62c6a603e8be23bbe77a0b9f8eeee110a617e1cba5
size 299473
